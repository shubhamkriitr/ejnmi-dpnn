{
 "cells": [
  {
   "cell_type": "code",
   "execution_count": 1,
   "metadata": {
    "collapsed": true
   },
   "outputs": [],
   "source": [
    "import data\n",
    "import utility as ut"
   ]
  },
  {
   "cell_type": "code",
   "execution_count": 5,
   "metadata": {},
   "outputs": [
    {
     "name": "stdout",
     "output_type": "stream",
     "text": [
      "Fold: 1\n",
      "Train chunk: [(19, 36), (37, 54), (55, 72), (73, 90), (101, 110), (111, 120), (121, 130), (131, 140), (171, 200), (201, 230), (231, 260), (261, 289)]\n",
      "Valdn chunk: [(0, 18), (91, 100), (141, 170)]\n",
      "Fold: 2\n",
      "Train chunk: [(0, 18), (37, 54), (55, 72), (73, 90), (91, 100), (111, 120), (121, 130), (131, 140), (141, 170), (201, 230), (231, 260), (261, 289)]\n",
      "Valdn chunk: [(19, 36), (101, 110), (171, 200)]\n",
      "Fold: 3\n",
      "Train chunk: [(0, 18), (19, 36), (55, 72), (73, 90), (91, 100), (101, 110), (121, 130), (131, 140), (141, 170), (171, 200), (231, 260), (261, 289)]\n",
      "Valdn chunk: [(37, 54), (111, 120), (201, 230)]\n",
      "Fold: 4\n",
      "Train chunk: [(0, 18), (19, 36), (37, 54), (73, 90), (91, 100), (101, 110), (111, 120), (131, 140), (141, 170), (171, 200), (201, 230), (261, 289)]\n",
      "Valdn chunk: [(55, 72), (121, 130), (231, 260)]\n",
      "Fold: 5\n",
      "Train chunk: [(0, 18), (19, 36), (37, 54), (55, 72), (91, 100), (101, 110), (111, 120), (121, 130), (141, 170), (171, 200), (201, 230), (231, 260)]\n",
      "Valdn chunk: [(73, 90), (131, 140), (261, 289)]\n"
     ]
    }
   ],
   "source": [
    "fold, max_fold = 1, 5\n",
    "for fold in range(1,6):\n",
    "    data_range_npd = [(0,90), (91,140), (141,289)]#parts of the new ext parkinson dataset to be used\n",
    "    sp_pd = ut.get_split_ranges(data_range_npd,fold,max_fold)\n",
    "    r_pd = sp_pd[\"train\"]\n",
    "    s_pd = sp_pd[\"val\"]\n",
    "    print(\"Fold:\", fold)\n",
    "    print(\"Train chunk:\", r_pd)\n",
    "    print(\"Valdn chunk:\", s_pd)\n",
    "    "
   ]
  },
  {
   "cell_type": "code",
   "execution_count": 9,
   "metadata": {},
   "outputs": [
    {
     "name": "stdout",
     "output_type": "stream",
     "text": [
      "10\n",
      "0\n",
      "1\n",
      "2\n",
      "3\n",
      "4\n",
      "5\n",
      "6\n",
      "7\n",
      "8\n",
      "9\n",
      "Batch 9\n"
     ]
    }
   ],
   "source": [
    "batch = 10\n",
    "print(batch)\n",
    "for batch in range(10):\n",
    "    print(batch)\n",
    "print(\"Batch\", batch)"
   ]
  },
  {
   "cell_type": "code",
   "execution_count": 11,
   "metadata": {},
   "outputs": [
    {
     "name": "stdout",
     "output_type": "stream",
     "text": [
      "----------\n",
      "New EXT Dev Data specifications:\n",
      "<class 'numpy.ndarray'>\n",
      "(290, 95, 69, 79, 1)\n",
      "float32\n",
      "Mean 0.521783\n",
      "Median 0.448994\n",
      "Max 2.54515\n",
      "Min -0.0328023\n",
      "std.dev. 0.426738\n",
      "----------\n"
     ]
    }
   ],
   "source": [
    "ut.get_array_info(data.get_newext_dev_parkinson_cls_data()[0], \"New EXT Dev Data\")"
   ]
  },
  {
   "cell_type": "code",
   "execution_count": 16,
   "metadata": {
    "collapsed": true
   },
   "outputs": [],
   "source": [
    "import numpy as np\n",
    "fq = np.sum(data.get_newext_dev_parkinson_cls_data()[1],axis=0 )\n",
    "sm = np.sum(fq)\n",
    "wts = np.square(sm/fq)"
   ]
  },
  {
   "cell_type": "code",
   "execution_count": 23,
   "metadata": {},
   "outputs": [
    {
     "data": {
      "text/plain": [
       "array([ 10.15577793,  33.6400032 ,   3.78811765], dtype=float32)"
      ]
     },
     "execution_count": 23,
     "metadata": {},
     "output_type": "execute_result"
    }
   ],
   "source": [
    "wts[:,0]"
   ]
  },
  {
   "cell_type": "code",
   "execution_count": 19,
   "metadata": {},
   "outputs": [
    {
     "data": {
      "text/plain": [
       "array([[  3.98285222],\n",
       "       [ 13.19279957],\n",
       "       [  1.4856087 ]], dtype=float32)"
      ]
     },
     "execution_count": 19,
     "metadata": {},
     "output_type": "execute_result"
    }
   ],
   "source": [
    "wt2 = np.sum(fq*fq)/(fq*fq)\n",
    "wt2"
   ]
  },
  {
   "cell_type": "code",
   "execution_count": 21,
   "metadata": {},
   "outputs": [
    {
     "data": {
      "text/plain": [
       "array([[  8281.],\n",
       "       [  2500.],\n",
       "       [ 22201.]], dtype=float32)"
      ]
     },
     "execution_count": 21,
     "metadata": {},
     "output_type": "execute_result"
    }
   ],
   "source": [
    "fq\n",
    "fq*fq"
   ]
  },
  {
   "cell_type": "code",
   "execution_count": 24,
   "metadata": {
    "collapsed": true
   },
   "outputs": [],
   "source": [
    "import data\n",
    "import numpy as np"
   ]
  },
  {
   "cell_type": "code",
   "execution_count": 25,
   "metadata": {
    "collapsed": true
   },
   "outputs": [],
   "source": [
    "X, Y = data.get_newext_dev_parkinson_cls_data()\n",
    "Z, = data.get_newext_test_parkinson_cls_data()"
   ]
  },
  {
   "cell_type": "code",
   "execution_count": 45,
   "metadata": {},
   "outputs": [
    {
     "name": "stdout",
     "output_type": "stream",
     "text": [
      "----------\n",
      "Array specifications:\n",
      "<class 'numpy.ndarray'>\n",
      "(290, 95, 69, 79, 1)\n",
      "float32\n",
      "Mean 0.521783\n",
      "Median 0.448994\n",
      "Max 2.54515\n",
      "Min -0.0328023\n",
      "std.dev. 0.426738\n",
      "----------\n",
      "----------\n",
      "Array specifications:\n",
      "<class 'numpy.ndarray'>\n",
      "(108, 95, 69, 79, 1)\n",
      "float32\n",
      "Mean 0.518901\n",
      "Median 0.438323\n",
      "Max 1.84031\n",
      "Min 0.0\n",
      "std.dev. 0.425261\n",
      "----------\n"
     ]
    }
   ],
   "source": [
    "ut.get_array_info(X)\n",
    "ut.get_array_info(Z)\n"
   ]
  },
  {
   "cell_type": "code",
   "execution_count": 48,
   "metadata": {},
   "outputs": [
    {
     "name": "stdout",
     "output_type": "stream",
     "text": [
      "1179\n",
      "10572\n"
     ]
    }
   ],
   "source": [
    "X1 = X[0,:,:,:,0]\n",
    "num_pix_mx = np.where(X>1.84030)\n",
    "num_pix_mn = np.where(X<0)\n",
    "print(num_pix_mx[0].shape[0])\n",
    "print(num_pix_mn[0].shape[0])"
   ]
  },
  {
   "cell_type": "code",
   "execution_count": 50,
   "metadata": {},
   "outputs": [
    {
     "name": "stdout",
     "output_type": "stream",
     "text": [
      "1179\n",
      "0\n"
     ]
    }
   ],
   "source": [
    "X_clipped = np.clip(X, 0,1.84031 )\n",
    "num_pix_mx = np.where(X_clipped>1.84030)\n",
    "num_pix_mn = np.where(X_clipped<0)\n",
    "print(num_pix_mx[0].shape[0])\n",
    "print(num_pix_mn[0].shape[0])"
   ]
  },
  {
   "cell_type": "code",
   "execution_count": null,
   "metadata": {
    "collapsed": true
   },
   "outputs": [],
   "source": []
  }
 ],
 "metadata": {
  "kernelspec": {
   "display_name": "Python 3",
   "language": "python",
   "name": "python3"
  },
  "language_info": {
   "codemirror_mode": {
    "name": "ipython",
    "version": 3
   },
   "file_extension": ".py",
   "mimetype": "text/x-python",
   "name": "python",
   "nbconvert_exporter": "python",
   "pygments_lexer": "ipython3",
   "version": "3.5.3"
  }
 },
 "nbformat": 4,
 "nbformat_minor": 2
}
